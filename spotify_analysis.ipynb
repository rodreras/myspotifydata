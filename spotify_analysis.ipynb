{
 "cells": [
  {
   "cell_type": "code",
   "execution_count": 1,
   "metadata": {},
   "outputs": [],
   "source": [
    "import pandas as pd\n",
    "import matplotlib.pyplot as plt\n",
    "import seaborn as sb\n",
    "import numpy as np"
   ]
  },
  {
   "cell_type": "markdown",
   "metadata": {},
   "source": [
    "## What we'll look into?\n",
    "\n",
    "- Analysis\n",
    "    - what part of the day I listen the most?\n",
    "    - What part of the year I listened the most?\n",
    "    - The top artists\n",
    "    - The top tracks\n"
   ]
  },
  {
   "cell_type": "code",
   "execution_count": 2,
   "metadata": {},
   "outputs": [
    {
     "data": {
      "text/html": [
       "<div>\n",
       "<style scoped>\n",
       "    .dataframe tbody tr th:only-of-type {\n",
       "        vertical-align: middle;\n",
       "    }\n",
       "\n",
       "    .dataframe tbody tr th {\n",
       "        vertical-align: top;\n",
       "    }\n",
       "\n",
       "    .dataframe thead th {\n",
       "        text-align: right;\n",
       "    }\n",
       "</style>\n",
       "<table border=\"1\" class=\"dataframe\">\n",
       "  <thead>\n",
       "    <tr style=\"text-align: right;\">\n",
       "      <th></th>\n",
       "      <th>endTime</th>\n",
       "      <th>artistName</th>\n",
       "      <th>trackName</th>\n",
       "      <th>msPlayed</th>\n",
       "    </tr>\n",
       "  </thead>\n",
       "  <tbody>\n",
       "    <tr>\n",
       "      <th>0</th>\n",
       "      <td>2019-12-04 00:03</td>\n",
       "      <td>Daniel Caesar</td>\n",
       "      <td>Who Hurt You?</td>\n",
       "      <td>231964</td>\n",
       "    </tr>\n",
       "    <tr>\n",
       "      <th>1</th>\n",
       "      <td>2019-12-04 00:07</td>\n",
       "      <td>Daniel Caesar</td>\n",
       "      <td>Streetcar</td>\n",
       "      <td>246972</td>\n",
       "    </tr>\n",
       "    <tr>\n",
       "      <th>2</th>\n",
       "      <td>2019-12-04 00:13</td>\n",
       "      <td>Daniel Caesar</td>\n",
       "      <td>TOO DEEP TO TURN BACK</td>\n",
       "      <td>7063</td>\n",
       "    </tr>\n",
       "    <tr>\n",
       "      <th>3</th>\n",
       "      <td>2019-12-04 00:14</td>\n",
       "      <td>H.E.R.</td>\n",
       "      <td>Slide</td>\n",
       "      <td>62090</td>\n",
       "    </tr>\n",
       "    <tr>\n",
       "      <th>4</th>\n",
       "      <td>2019-12-04 00:18</td>\n",
       "      <td>Kendrick Lamar</td>\n",
       "      <td>Bitch, Don’t Kill My Vibe - Remix</td>\n",
       "      <td>278520</td>\n",
       "    </tr>\n",
       "  </tbody>\n",
       "</table>\n",
       "</div>"
      ],
      "text/plain": [
       "            endTime      artistName                          trackName  \\\n",
       "0  2019-12-04 00:03   Daniel Caesar                      Who Hurt You?   \n",
       "1  2019-12-04 00:07   Daniel Caesar                          Streetcar   \n",
       "2  2019-12-04 00:13   Daniel Caesar              TOO DEEP TO TURN BACK   \n",
       "3  2019-12-04 00:14          H.E.R.                              Slide   \n",
       "4  2019-12-04 00:18  Kendrick Lamar  Bitch, Don’t Kill My Vibe - Remix   \n",
       "\n",
       "   msPlayed  \n",
       "0    231964  \n",
       "1    246972  \n",
       "2      7063  \n",
       "3     62090  \n",
       "4    278520  "
      ]
     },
     "execution_count": 2,
     "metadata": {},
     "output_type": "execute_result"
    }
   ],
   "source": [
    "#importing data\n",
    "data = pd.read_json('StreamingHistory0.json')\n",
    "data.head()"
   ]
  },
  {
   "cell_type": "code",
   "execution_count": 3,
   "metadata": {},
   "outputs": [
    {
     "data": {
      "text/plain": [
       "(8311, 4)"
      ]
     },
     "execution_count": 3,
     "metadata": {},
     "output_type": "execute_result"
    }
   ],
   "source": [
    "data.shape"
   ]
  },
  {
   "cell_type": "code",
   "execution_count": 4,
   "metadata": {},
   "outputs": [],
   "source": [
    "#creating a column with the total minute played\n",
    "data['minPlayed'] = data.msPlayed / 60000\n",
    "data.drop(columns = 'msPlayed',  inplace = True)"
   ]
  },
  {
   "cell_type": "code",
   "execution_count": 5,
   "metadata": {},
   "outputs": [
    {
     "data": {
      "text/plain": [
       "7.395626143518519"
      ]
     },
     "execution_count": 5,
     "metadata": {},
     "output_type": "execute_result"
    }
   ],
   "source": [
    "#total number of minutes listened in hours\n",
    "data.minPlayed.sum()/3600"
   ]
  },
  {
   "cell_type": "code",
   "execution_count": 6,
   "metadata": {},
   "outputs": [
    {
     "data": {
      "text/html": [
       "<div>\n",
       "<style scoped>\n",
       "    .dataframe tbody tr th:only-of-type {\n",
       "        vertical-align: middle;\n",
       "    }\n",
       "\n",
       "    .dataframe tbody tr th {\n",
       "        vertical-align: top;\n",
       "    }\n",
       "\n",
       "    .dataframe thead th {\n",
       "        text-align: right;\n",
       "    }\n",
       "</style>\n",
       "<table border=\"1\" class=\"dataframe\">\n",
       "  <thead>\n",
       "    <tr style=\"text-align: right;\">\n",
       "      <th></th>\n",
       "      <th>endTime</th>\n",
       "      <th>artistName</th>\n",
       "      <th>trackName</th>\n",
       "      <th>minPlayed</th>\n",
       "    </tr>\n",
       "  </thead>\n",
       "  <tbody>\n",
       "    <tr>\n",
       "      <th>0</th>\n",
       "      <td>2019-12-04 00:03</td>\n",
       "      <td>Daniel Caesar</td>\n",
       "      <td>Who Hurt You?</td>\n",
       "      <td>3.866067</td>\n",
       "    </tr>\n",
       "    <tr>\n",
       "      <th>1</th>\n",
       "      <td>2019-12-04 00:07</td>\n",
       "      <td>Daniel Caesar</td>\n",
       "      <td>Streetcar</td>\n",
       "      <td>4.116200</td>\n",
       "    </tr>\n",
       "    <tr>\n",
       "      <th>2</th>\n",
       "      <td>2019-12-04 00:13</td>\n",
       "      <td>Daniel Caesar</td>\n",
       "      <td>TOO DEEP TO TURN BACK</td>\n",
       "      <td>0.117717</td>\n",
       "    </tr>\n",
       "    <tr>\n",
       "      <th>3</th>\n",
       "      <td>2019-12-04 00:14</td>\n",
       "      <td>H.E.R.</td>\n",
       "      <td>Slide</td>\n",
       "      <td>1.034833</td>\n",
       "    </tr>\n",
       "    <tr>\n",
       "      <th>4</th>\n",
       "      <td>2019-12-04 00:18</td>\n",
       "      <td>Kendrick Lamar</td>\n",
       "      <td>Bitch, Don’t Kill My Vibe - Remix</td>\n",
       "      <td>4.642000</td>\n",
       "    </tr>\n",
       "  </tbody>\n",
       "</table>\n",
       "</div>"
      ],
      "text/plain": [
       "            endTime      artistName                          trackName  \\\n",
       "0  2019-12-04 00:03   Daniel Caesar                      Who Hurt You?   \n",
       "1  2019-12-04 00:07   Daniel Caesar                          Streetcar   \n",
       "2  2019-12-04 00:13   Daniel Caesar              TOO DEEP TO TURN BACK   \n",
       "3  2019-12-04 00:14          H.E.R.                              Slide   \n",
       "4  2019-12-04 00:18  Kendrick Lamar  Bitch, Don’t Kill My Vibe - Remix   \n",
       "\n",
       "   minPlayed  \n",
       "0   3.866067  \n",
       "1   4.116200  \n",
       "2   0.117717  \n",
       "3   1.034833  \n",
       "4   4.642000  "
      ]
     },
     "execution_count": 6,
     "metadata": {},
     "output_type": "execute_result"
    }
   ],
   "source": [
    "data.head()"
   ]
  },
  {
   "cell_type": "code",
   "execution_count": 7,
   "metadata": {},
   "outputs": [
    {
     "name": "stdout",
     "output_type": "stream",
     "text": [
      "Mac Miller            385\n",
      "Ferrugem              246\n",
      "The Weeknd            239\n",
      "Daft Punk             191\n",
      "Frank Ocean           187\n",
      "Foo Fighters          185\n",
      "Muse                  162\n",
      "Cage The Elephant     155\n",
      "Dua Lipa              152\n",
      "Ariana Grande         141\n",
      "Thiaguinho            137\n",
      "Childish Gambino      127\n",
      "Rex Orange County     124\n",
      "Tyler, The Creator    123\n",
      "Mac DeMarco           119\n",
      "Name: artistName, dtype: int64\n"
     ]
    }
   ],
   "source": [
    "#top 15 artists\n",
    "top10_artists = data.artistName.value_counts()[:15]\n",
    "print(top10_artists)"
   ]
  },
  {
   "cell_type": "code",
   "execution_count": 8,
   "metadata": {},
   "outputs": [
    {
     "name": "stdout",
     "output_type": "stream",
     "text": [
      "Good News             46\n",
      "Circles               37\n",
      "Hands                 28\n",
      "Backyard              28\n",
      "SUGAR                 23\n",
      "Complicated           21\n",
      "In My Room            21\n",
      "Blue World            20\n",
      "I Can See             19\n",
      "Redbone               18\n",
      "NO HALO               18\n",
      "Blinding Lights       18\n",
      "Trina                 17\n",
      "Something About Us    17\n",
      "Everybody             17\n",
      "Name: trackName, dtype: int64\n"
     ]
    }
   ],
   "source": [
    "#top 15 tracks\n",
    "top10_tracks = data.trackName.value_counts()[:15]\n",
    "print(top10_tracks)"
   ]
  },
  {
   "cell_type": "code",
   "execution_count": 9,
   "metadata": {},
   "outputs": [],
   "source": [
    "#converting endTime to datetime\n",
    "data['endTime'] = pd.to_datetime(data['endTime'])"
   ]
  },
  {
   "cell_type": "code",
   "execution_count": 10,
   "metadata": {},
   "outputs": [],
   "source": [
    "#creating a column for date, weekday and hour only\n",
    "data['date'] = data['endTime'].dt.date\n",
    "data['hour'] = data['endTime'].dt.hour\n",
    "#data['weekday'] = pd.to_datetime(data['endTime'])\n",
    "data['weekday'] = data['endTime'].dt.weekday"
   ]
  },
  {
   "cell_type": "code",
   "execution_count": 11,
   "metadata": {},
   "outputs": [
    {
     "data": {
      "text/plain": [
       "endTime       datetime64[ns]\n",
       "artistName            object\n",
       "trackName             object\n",
       "minPlayed            float64\n",
       "date                  object\n",
       "hour                   int64\n",
       "weekday                int64\n",
       "dtype: object"
      ]
     },
     "execution_count": 11,
     "metadata": {},
     "output_type": "execute_result"
    }
   ],
   "source": [
    "#checking for data types\n",
    "data.dtypes"
   ]
  },
  {
   "cell_type": "code",
   "execution_count": 16,
   "metadata": {},
   "outputs": [
    {
     "data": {
      "image/png": "[encoded data removed]",
      "text/plain": [
       "<Figure size 576x576 with 1 Axes>"
      ]
     },
     "metadata": {
      "needs_background": "light"
     },
     "output_type": "display_data"
    }
   ],
   "source": [
    "#taking a look at distribuition of listening in dates\n",
    "plt.figure(figsize = (8,8))\n",
    "plt.hist(data = data, x = 'date', bins = 12)\n",
    "plt.xticks(rotation = 90)\n",
    "plt.grid(True, axis = 'y')\n",
    "plt.title('Distribution of music listened in 2020')\n",
    "plt.savefig('img/music_distribuition.png', bbox_inches='tight', transparente = True)"
   ]
  },
  {
   "cell_type": "code",
   "execution_count": 17,
   "metadata": {},
   "outputs": [],
   "source": [
    "#filtering and creating another df \n",
    "days_hours = data.filter(['hour','weekday','minPlayed'])"
   ]
  },
  {
   "cell_type": "code",
   "execution_count": 18,
   "metadata": {},
   "outputs": [
    {
     "data": {
      "text/html": [
       "<div>\n",
       "<style scoped>\n",
       "    .dataframe tbody tr th:only-of-type {\n",
       "        vertical-align: middle;\n",
       "    }\n",
       "\n",
       "    .dataframe tbody tr th {\n",
       "        vertical-align: top;\n",
       "    }\n",
       "\n",
       "    .dataframe thead th {\n",
       "        text-align: right;\n",
       "    }\n",
       "</style>\n",
       "<table border=\"1\" class=\"dataframe\">\n",
       "  <thead>\n",
       "    <tr style=\"text-align: right;\">\n",
       "      <th></th>\n",
       "      <th>hour</th>\n",
       "      <th>weekday</th>\n",
       "      <th>minPlayed</th>\n",
       "    </tr>\n",
       "  </thead>\n",
       "  <tbody>\n",
       "    <tr>\n",
       "      <th>0</th>\n",
       "      <td>0</td>\n",
       "      <td>2</td>\n",
       "      <td>3.866067</td>\n",
       "    </tr>\n",
       "    <tr>\n",
       "      <th>1</th>\n",
       "      <td>0</td>\n",
       "      <td>2</td>\n",
       "      <td>4.116200</td>\n",
       "    </tr>\n",
       "    <tr>\n",
       "      <th>2</th>\n",
       "      <td>0</td>\n",
       "      <td>2</td>\n",
       "      <td>0.117717</td>\n",
       "    </tr>\n",
       "    <tr>\n",
       "      <th>3</th>\n",
       "      <td>0</td>\n",
       "      <td>2</td>\n",
       "      <td>1.034833</td>\n",
       "    </tr>\n",
       "    <tr>\n",
       "      <th>4</th>\n",
       "      <td>0</td>\n",
       "      <td>2</td>\n",
       "      <td>4.642000</td>\n",
       "    </tr>\n",
       "    <tr>\n",
       "      <th>...</th>\n",
       "      <td>...</td>\n",
       "      <td>...</td>\n",
       "      <td>...</td>\n",
       "    </tr>\n",
       "    <tr>\n",
       "      <th>8306</th>\n",
       "      <td>19</td>\n",
       "      <td>4</td>\n",
       "      <td>2.952267</td>\n",
       "    </tr>\n",
       "    <tr>\n",
       "      <th>8307</th>\n",
       "      <td>19</td>\n",
       "      <td>4</td>\n",
       "      <td>1.828117</td>\n",
       "    </tr>\n",
       "    <tr>\n",
       "      <th>8308</th>\n",
       "      <td>19</td>\n",
       "      <td>4</td>\n",
       "      <td>2.946433</td>\n",
       "    </tr>\n",
       "    <tr>\n",
       "      <th>8309</th>\n",
       "      <td>22</td>\n",
       "      <td>4</td>\n",
       "      <td>0.581650</td>\n",
       "    </tr>\n",
       "    <tr>\n",
       "      <th>8310</th>\n",
       "      <td>22</td>\n",
       "      <td>4</td>\n",
       "      <td>1.586667</td>\n",
       "    </tr>\n",
       "  </tbody>\n",
       "</table>\n",
       "<p>8311 rows × 3 columns</p>\n",
       "</div>"
      ],
      "text/plain": [
       "      hour  weekday  minPlayed\n",
       "0        0        2   3.866067\n",
       "1        0        2   4.116200\n",
       "2        0        2   0.117717\n",
       "3        0        2   1.034833\n",
       "4        0        2   4.642000\n",
       "...    ...      ...        ...\n",
       "8306    19        4   2.952267\n",
       "8307    19        4   1.828117\n",
       "8308    19        4   2.946433\n",
       "8309    22        4   0.581650\n",
       "8310    22        4   1.586667\n",
       "\n",
       "[8311 rows x 3 columns]"
      ]
     },
     "execution_count": 18,
     "metadata": {},
     "output_type": "execute_result"
    }
   ],
   "source": [
    "#checking the process\n",
    "days_hours"
   ]
  },
  {
   "cell_type": "code",
   "execution_count": 19,
   "metadata": {},
   "outputs": [
    {
     "data": {
      "image/png": "[encoded data removed]",
      "text/plain": [
       "<Figure size 576x576 with 1 Axes>"
      ]
     },
     "metadata": {
      "needs_background": "light"
     },
     "output_type": "display_data"
    }
   ],
   "source": [
    "#making a plot with most common listening hours\n",
    "plt.figure(figsize = (8,8))\n",
    "col = sb.color_palette()[0]\n",
    "#order = ['0h','1h','2h','3h','4h','5h','6h','7h','8h','9h','10h','11h','12h','13h','14h','15h','16h','17h','18h','19h','20h','21h','22h','23h']\n",
    "sb.countplot(data = days_hours, x ='hour', color = col) #,  order = order)\n",
    "plt.title('Most common listening hours')\n",
    "plt.ylabel('Number of streams')\n",
    "plt.xlabel('Hour')\n",
    "plt.xticks(rotation = 90);\n",
    "plt.savefig('img/commom_listening_hours.png', bbox_inches='tight', transparente = True)"
   ]
  },
  {
   "cell_type": "code",
   "execution_count": 20,
   "metadata": {},
   "outputs": [
    {
     "data": {
      "image/png": "[encoded data removed]",
      "text/plain": [
       "<Figure size 576x576 with 1 Axes>"
      ]
     },
     "metadata": {
      "needs_background": "light"
     },
     "output_type": "display_data"
    }
   ],
   "source": [
    "#making a plot with the most commom listening days\n",
    "plt.figure(figsize = (8,8))\n",
    "col = sb.color_palette()[0]\n",
    "#order = ['Monday', 'Tuesday', 'Wednesday', 'Thursday', 'Friday', 'Saturday', 'Sunday']\n",
    "day_short_names = ['Mon', 'Tues', 'Wed', 'Thurs', 'Fri', 'Sat', 'Sun']\n",
    "sb.countplot(data = days_hours, x ='weekday', color = col) #order = order)\n",
    "plt.xticks([0,1,2,3,4,5,6], day_short_names);\n",
    "plt.title('Most common listening days')\n",
    "plt.ylabel('Number of streams')\n",
    "plt.xlabel('Weekday');\n",
    "plt.savefig('img/listening_days.png', bbox_inches='tight', transparente = True)"
   ]
  },
  {
   "cell_type": "code",
   "execution_count": 21,
   "metadata": {},
   "outputs": [],
   "source": [
    "data['date']= pd.to_datetime(data['date'])"
   ]
  },
  {
   "cell_type": "code",
   "execution_count": 22,
   "metadata": {},
   "outputs": [],
   "source": [
    "#pivoting the df and creating another one. We'll use wekkday and hour as index, because this is what\n",
    "#we want to display in the heatmap\n",
    "data_df = pd.pivot_table(data[['hour','weekday','minPlayed']], index = ['weekday','hour'], aggfunc = 'count')"
   ]
  },
  {
   "cell_type": "code",
   "execution_count": 23,
   "metadata": {},
   "outputs": [
    {
     "data": {
      "text/html": [
       "<div>\n",
       "<style scoped>\n",
       "    .dataframe tbody tr th:only-of-type {\n",
       "        vertical-align: middle;\n",
       "    }\n",
       "\n",
       "    .dataframe tbody tr th {\n",
       "        vertical-align: top;\n",
       "    }\n",
       "\n",
       "    .dataframe thead tr th {\n",
       "        text-align: left;\n",
       "    }\n",
       "\n",
       "    .dataframe thead tr:last-of-type th {\n",
       "        text-align: right;\n",
       "    }\n",
       "</style>\n",
       "<table border=\"1\" class=\"dataframe\">\n",
       "  <thead>\n",
       "    <tr>\n",
       "      <th></th>\n",
       "      <th colspan=\"7\" halign=\"left\">minPlayed</th>\n",
       "    </tr>\n",
       "    <tr>\n",
       "      <th>weekday</th>\n",
       "      <th>0</th>\n",
       "      <th>1</th>\n",
       "      <th>2</th>\n",
       "      <th>3</th>\n",
       "      <th>4</th>\n",
       "      <th>5</th>\n",
       "      <th>6</th>\n",
       "    </tr>\n",
       "    <tr>\n",
       "      <th>hour</th>\n",
       "      <th></th>\n",
       "      <th></th>\n",
       "      <th></th>\n",
       "      <th></th>\n",
       "      <th></th>\n",
       "      <th></th>\n",
       "      <th></th>\n",
       "    </tr>\n",
       "  </thead>\n",
       "  <tbody>\n",
       "    <tr>\n",
       "      <th>0</th>\n",
       "      <td>51.0</td>\n",
       "      <td>49.0</td>\n",
       "      <td>41.0</td>\n",
       "      <td>34.0</td>\n",
       "      <td>27.0</td>\n",
       "      <td>76.0</td>\n",
       "      <td>77.0</td>\n",
       "    </tr>\n",
       "    <tr>\n",
       "      <th>1</th>\n",
       "      <td>47.0</td>\n",
       "      <td>21.0</td>\n",
       "      <td>37.0</td>\n",
       "      <td>61.0</td>\n",
       "      <td>40.0</td>\n",
       "      <td>64.0</td>\n",
       "      <td>80.0</td>\n",
       "    </tr>\n",
       "    <tr>\n",
       "      <th>2</th>\n",
       "      <td>30.0</td>\n",
       "      <td>11.0</td>\n",
       "      <td>15.0</td>\n",
       "      <td>7.0</td>\n",
       "      <td>15.0</td>\n",
       "      <td>69.0</td>\n",
       "      <td>70.0</td>\n",
       "    </tr>\n",
       "    <tr>\n",
       "      <th>3</th>\n",
       "      <td>2.0</td>\n",
       "      <td>1.0</td>\n",
       "      <td>43.0</td>\n",
       "      <td>47.0</td>\n",
       "      <td>16.0</td>\n",
       "      <td>75.0</td>\n",
       "      <td>53.0</td>\n",
       "    </tr>\n",
       "    <tr>\n",
       "      <th>4</th>\n",
       "      <td>1.0</td>\n",
       "      <td>0.0</td>\n",
       "      <td>19.0</td>\n",
       "      <td>7.0</td>\n",
       "      <td>24.0</td>\n",
       "      <td>17.0</td>\n",
       "      <td>6.0</td>\n",
       "    </tr>\n",
       "    <tr>\n",
       "      <th>5</th>\n",
       "      <td>0.0</td>\n",
       "      <td>0.0</td>\n",
       "      <td>19.0</td>\n",
       "      <td>0.0</td>\n",
       "      <td>0.0</td>\n",
       "      <td>15.0</td>\n",
       "      <td>0.0</td>\n",
       "    </tr>\n",
       "    <tr>\n",
       "      <th>6</th>\n",
       "      <td>0.0</td>\n",
       "      <td>1.0</td>\n",
       "      <td>15.0</td>\n",
       "      <td>0.0</td>\n",
       "      <td>2.0</td>\n",
       "      <td>16.0</td>\n",
       "      <td>0.0</td>\n",
       "    </tr>\n",
       "    <tr>\n",
       "      <th>8</th>\n",
       "      <td>15.0</td>\n",
       "      <td>0.0</td>\n",
       "      <td>0.0</td>\n",
       "      <td>0.0</td>\n",
       "      <td>0.0</td>\n",
       "      <td>0.0</td>\n",
       "      <td>0.0</td>\n",
       "    </tr>\n",
       "    <tr>\n",
       "      <th>9</th>\n",
       "      <td>24.0</td>\n",
       "      <td>0.0</td>\n",
       "      <td>0.0</td>\n",
       "      <td>0.0</td>\n",
       "      <td>16.0</td>\n",
       "      <td>0.0</td>\n",
       "      <td>0.0</td>\n",
       "    </tr>\n",
       "    <tr>\n",
       "      <th>10</th>\n",
       "      <td>50.0</td>\n",
       "      <td>9.0</td>\n",
       "      <td>0.0</td>\n",
       "      <td>1.0</td>\n",
       "      <td>20.0</td>\n",
       "      <td>0.0</td>\n",
       "      <td>0.0</td>\n",
       "    </tr>\n",
       "    <tr>\n",
       "      <th>11</th>\n",
       "      <td>1.0</td>\n",
       "      <td>10.0</td>\n",
       "      <td>6.0</td>\n",
       "      <td>16.0</td>\n",
       "      <td>0.0</td>\n",
       "      <td>0.0</td>\n",
       "      <td>0.0</td>\n",
       "    </tr>\n",
       "    <tr>\n",
       "      <th>12</th>\n",
       "      <td>2.0</td>\n",
       "      <td>35.0</td>\n",
       "      <td>35.0</td>\n",
       "      <td>24.0</td>\n",
       "      <td>21.0</td>\n",
       "      <td>14.0</td>\n",
       "      <td>0.0</td>\n",
       "    </tr>\n",
       "    <tr>\n",
       "      <th>13</th>\n",
       "      <td>21.0</td>\n",
       "      <td>53.0</td>\n",
       "      <td>121.0</td>\n",
       "      <td>44.0</td>\n",
       "      <td>22.0</td>\n",
       "      <td>42.0</td>\n",
       "      <td>2.0</td>\n",
       "    </tr>\n",
       "    <tr>\n",
       "      <th>14</th>\n",
       "      <td>80.0</td>\n",
       "      <td>65.0</td>\n",
       "      <td>108.0</td>\n",
       "      <td>60.0</td>\n",
       "      <td>27.0</td>\n",
       "      <td>81.0</td>\n",
       "      <td>12.0</td>\n",
       "    </tr>\n",
       "    <tr>\n",
       "      <th>15</th>\n",
       "      <td>95.0</td>\n",
       "      <td>95.0</td>\n",
       "      <td>67.0</td>\n",
       "      <td>134.0</td>\n",
       "      <td>34.0</td>\n",
       "      <td>59.0</td>\n",
       "      <td>60.0</td>\n",
       "    </tr>\n",
       "    <tr>\n",
       "      <th>16</th>\n",
       "      <td>44.0</td>\n",
       "      <td>107.0</td>\n",
       "      <td>90.0</td>\n",
       "      <td>131.0</td>\n",
       "      <td>36.0</td>\n",
       "      <td>78.0</td>\n",
       "      <td>114.0</td>\n",
       "    </tr>\n",
       "    <tr>\n",
       "      <th>17</th>\n",
       "      <td>99.0</td>\n",
       "      <td>130.0</td>\n",
       "      <td>137.0</td>\n",
       "      <td>58.0</td>\n",
       "      <td>59.0</td>\n",
       "      <td>107.0</td>\n",
       "      <td>115.0</td>\n",
       "    </tr>\n",
       "    <tr>\n",
       "      <th>18</th>\n",
       "      <td>132.0</td>\n",
       "      <td>109.0</td>\n",
       "      <td>187.0</td>\n",
       "      <td>95.0</td>\n",
       "      <td>80.0</td>\n",
       "      <td>81.0</td>\n",
       "      <td>92.0</td>\n",
       "    </tr>\n",
       "    <tr>\n",
       "      <th>19</th>\n",
       "      <td>133.0</td>\n",
       "      <td>167.0</td>\n",
       "      <td>154.0</td>\n",
       "      <td>127.0</td>\n",
       "      <td>147.0</td>\n",
       "      <td>58.0</td>\n",
       "      <td>118.0</td>\n",
       "    </tr>\n",
       "    <tr>\n",
       "      <th>20</th>\n",
       "      <td>92.0</td>\n",
       "      <td>153.0</td>\n",
       "      <td>115.0</td>\n",
       "      <td>105.0</td>\n",
       "      <td>146.0</td>\n",
       "      <td>53.0</td>\n",
       "      <td>104.0</td>\n",
       "    </tr>\n",
       "    <tr>\n",
       "      <th>21</th>\n",
       "      <td>118.0</td>\n",
       "      <td>139.0</td>\n",
       "      <td>126.0</td>\n",
       "      <td>82.0</td>\n",
       "      <td>93.0</td>\n",
       "      <td>19.0</td>\n",
       "      <td>88.0</td>\n",
       "    </tr>\n",
       "    <tr>\n",
       "      <th>22</th>\n",
       "      <td>112.0</td>\n",
       "      <td>97.0</td>\n",
       "      <td>116.0</td>\n",
       "      <td>36.0</td>\n",
       "      <td>106.0</td>\n",
       "      <td>17.0</td>\n",
       "      <td>83.0</td>\n",
       "    </tr>\n",
       "    <tr>\n",
       "      <th>23</th>\n",
       "      <td>65.0</td>\n",
       "      <td>86.0</td>\n",
       "      <td>111.0</td>\n",
       "      <td>27.0</td>\n",
       "      <td>66.0</td>\n",
       "      <td>25.0</td>\n",
       "      <td>64.0</td>\n",
       "    </tr>\n",
       "  </tbody>\n",
       "</table>\n",
       "</div>"
      ],
      "text/plain": [
       "        minPlayed                                          \n",
       "weekday         0      1      2      3      4      5      6\n",
       "hour                                                       \n",
       "0            51.0   49.0   41.0   34.0   27.0   76.0   77.0\n",
       "1            47.0   21.0   37.0   61.0   40.0   64.0   80.0\n",
       "2            30.0   11.0   15.0    7.0   15.0   69.0   70.0\n",
       "3             2.0    1.0   43.0   47.0   16.0   75.0   53.0\n",
       "4             1.0    0.0   19.0    7.0   24.0   17.0    6.0\n",
       "5             0.0    0.0   19.0    0.0    0.0   15.0    0.0\n",
       "6             0.0    1.0   15.0    0.0    2.0   16.0    0.0\n",
       "8            15.0    0.0    0.0    0.0    0.0    0.0    0.0\n",
       "9            24.0    0.0    0.0    0.0   16.0    0.0    0.0\n",
       "10           50.0    9.0    0.0    1.0   20.0    0.0    0.0\n",
       "11            1.0   10.0    6.0   16.0    0.0    0.0    0.0\n",
       "12            2.0   35.0   35.0   24.0   21.0   14.0    0.0\n",
       "13           21.0   53.0  121.0   44.0   22.0   42.0    2.0\n",
       "14           80.0   65.0  108.0   60.0   27.0   81.0   12.0\n",
       "15           95.0   95.0   67.0  134.0   34.0   59.0   60.0\n",
       "16           44.0  107.0   90.0  131.0   36.0   78.0  114.0\n",
       "17           99.0  130.0  137.0   58.0   59.0  107.0  115.0\n",
       "18          132.0  109.0  187.0   95.0   80.0   81.0   92.0\n",
       "19          133.0  167.0  154.0  127.0  147.0   58.0  118.0\n",
       "20           92.0  153.0  115.0  105.0  146.0   53.0  104.0\n",
       "21          118.0  139.0  126.0   82.0   93.0   19.0   88.0\n",
       "22          112.0   97.0  116.0   36.0  106.0   17.0   83.0\n",
       "23           65.0   86.0  111.0   27.0   66.0   25.0   64.0"
      ]
     },
     "execution_count": 23,
     "metadata": {},
     "output_type": "execute_result"
    }
   ],
   "source": [
    "#unstacking the data, and filling the NaN values with 0\n",
    "data_df2 = data_df.unstack(level = 0)\n",
    "data_df3 = data_df2.fillna(0)\n",
    "data_df3"
   ]
  },
  {
   "cell_type": "code",
   "execution_count": 24,
   "metadata": {},
   "outputs": [
    {
     "data": {
      "image/png": "[encoded data removed]",
      "text/plain": [
       "<Figure size 1440x1080 with 2 Axes>"
      ]
     },
     "metadata": {
      "needs_background": "light"
     },
     "output_type": "display_data"
    }
   ],
   "source": [
    "#plotting the heatmap with most listening hours and days\n",
    "day_short_names = ['Mon', 'Tues', 'Wed', 'Thurs', 'Fri', 'Sat', 'Sun']\n",
    "plt.figure(figsize = (20,15))\n",
    "sb.heatmap(data = data_df3, annot = True, cmap = 'BuGn', fmt = '000', xticklabels=day_short_names)\n",
    "plt.title('Days and Hours with most listening to Spotify', fontsize = 25)\n",
    "plt.xlabel('')\n",
    "plt.ylabel('Hours - 24h format');\n",
    "plt.savefig('img/stream_heatmap.png', bbox_inches='tight', transparente = True)"
   ]
  },
  {
   "cell_type": "markdown",
   "metadata": {},
   "source": [
    "### Sources\n",
    "\n",
    "[Heatmap](https://dfrieds.com/data-visualizations/when-use-heatmaps.html)\n",
    "\n",
    "[Seaborn Documentation](https://seaborn.pydata.org/api.html)\n",
    "\n",
    "[Changing xticks label](https://www.kite.com/python/answers/how-to-set-tick-labels-with-matplotlib-in-python)\n",
    "\n",
    "[Matplotlib Documentation](https://matplotlib.org/3.3.3/index.html)\n",
    "\n",
    "[Pandas Documentation](https://pandas.pydata.org/pandas-docs/stable/index.html)\n",
    "\n",
    "[Color Palette](https://chrisalbon.com/python/data_visualization/seaborn_color_palettes/)"
   ]
  },
  {
   "cell_type": "code",
   "execution_count": null,
   "metadata": {},
   "outputs": [],
   "source": []
  }
 ],
 "metadata": {
  "kernelspec": {
   "display_name": "Python 3",
   "language": "python",
   "name": "python3"
  },
  "language_info": {
   "codemirror_mode": {
    "name": "ipython",
    "version": 3
   },
   "file_extension": ".py",
   "mimetype": "text/x-python",
   "name": "python",
   "nbconvert_exporter": "python",
   "pygments_lexer": "ipython3",
   "version": "3.7.6"
  }
 },
 "nbformat": 4,
 "nbformat_minor": 4
}
